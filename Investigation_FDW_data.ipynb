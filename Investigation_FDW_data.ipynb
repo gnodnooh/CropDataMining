{
 "cells": [
  {
   "cell_type": "code",
   "execution_count": null,
   "metadata": {},
   "outputs": [],
   "source": []
  },
  {
   "cell_type": "code",
   "execution_count": 1,
   "metadata": {},
   "outputs": [
    {
     "data": {
      "text/html": [
       "        <script type=\"text/javascript\">\n",
       "        window.PlotlyConfig = {MathJaxConfig: 'local'};\n",
       "        if (window.MathJax) {MathJax.Hub.Config({SVG: {font: \"STIX-Web\"}});}\n",
       "        if (typeof require !== 'undefined') {\n",
       "        require.undef(\"plotly\");\n",
       "        requirejs.config({\n",
       "            paths: {\n",
       "                'plotly': ['https://cdn.plot.ly/plotly-latest.min']\n",
       "            }\n",
       "        });\n",
       "        require(['plotly'], function(Plotly) {\n",
       "            window._Plotly = Plotly;\n",
       "        });\n",
       "        }\n",
       "        </script>\n",
       "        "
      ]
     },
     "metadata": {},
     "output_type": "display_data"
    }
   ],
   "source": [
    "from configparser import ConfigParser\n",
    "from io import BytesIO, StringIO\n",
    "import requests\n",
    "import geopandas as gpd\n",
    "import numpy as np\n",
    "import pandas as pd\n",
    "import plotly.express as px\n",
    "import plotly.graph_objects as go\n",
    "from plotly.offline import init_notebook_mode, iplot\n",
    "import matplotlib.pyplot as plt\n",
    "import json\n",
    "init_notebook_mode(connected=True)\n",
    "\n",
    "# Host address\n",
    "host = 'https://fdw.fews.net'\n",
    "# Set the credentials as appropriate\n",
    "parser = ConfigParser(interpolation=None)\n",
    "parser.read('./data/nb.cfg')\n",
    "username = parser.get('my_credentials', 'username')\n",
    "password = parser.get('my_credentials', 'password')\n",
    "auth = (username, password)"
   ]
  },
  {
   "cell_type": "code",
   "execution_count": 2,
   "metadata": {},
   "outputs": [],
   "source": [
    "# Crop list\n",
    "product_list = {'R01142AA': 'Sorghum',                  # KE, SO\n",
    "                'R01142AA': 'Maize Grain (White)',      # KE\n",
    "                'R01122AA': 'Maize (Corn)'}             # SO\n",
    "\n",
    "# Set up the parameters\n",
    "countries = sorted(['Somalia'])\n",
    "parameters = {\n",
    "    'format': 'json',\n",
    "    'country': countries,\n",
    "    'survey_type': 'crop:best',\n",
    "    'product': 'R01122AA'\n",
    "}\n",
    "\n",
    "# Get the Crop Production Indicator Values (i.e. the list of Data Points)\n",
    "endpoint = '/api/cropproductionindicatorvalue/'\n",
    "response = requests.get(host + endpoint, auth=auth, params=parameters, proxies={})\n",
    "response.raise_for_status()\n",
    "\n",
    "# Turn the records into a Pandas DataFrame\n",
    "df = pd.DataFrame.from_records(response.json())\n",
    "\n",
    "# Remove unnecessary columns\n",
    "retain_cols = ['fnid',\n",
    "               'admin_1','admin_2','admin_3','admin_4',\n",
    "               'start_date',\n",
    "               'period_date',\n",
    "               'season_name',\n",
    "               'season_type',\n",
    "               'indicator',\n",
    "               'value']\n",
    "df = df[retain_cols]"
   ]
  },
  {
   "cell_type": "markdown",
   "metadata": {},
   "source": [
    "### Clean out FDW records\n",
    "This follows procedures done by Frank's ERL paper."
   ]
  },
  {
   "cell_type": "code",
   "execution_count": 3,
   "metadata": {},
   "outputs": [],
   "source": [
    "# 1) Only Deyr and Gu, not out of season obs.\n",
    "df = df[df['season_name'].isin(['Deyr', 'Gu'])]"
   ]
  },
  {
   "cell_type": "code",
   "execution_count": 4,
   "metadata": {},
   "outputs": [
    {
     "data": {
      "text/html": [
       "<div>\n",
       "<style scoped>\n",
       "    .dataframe tbody tr th:only-of-type {\n",
       "        vertical-align: middle;\n",
       "    }\n",
       "\n",
       "    .dataframe tbody tr th {\n",
       "        vertical-align: top;\n",
       "    }\n",
       "\n",
       "    .dataframe thead th {\n",
       "        text-align: right;\n",
       "    }\n",
       "</style>\n",
       "<table border=\"1\" class=\"dataframe\">\n",
       "  <thead>\n",
       "    <tr style=\"text-align: right;\">\n",
       "      <th></th>\n",
       "      <th>fnid</th>\n",
       "      <th>admin_1</th>\n",
       "      <th>admin_2</th>\n",
       "      <th>admin_3</th>\n",
       "      <th>admin_4</th>\n",
       "      <th>start_date</th>\n",
       "      <th>period_date</th>\n",
       "      <th>season_name</th>\n",
       "      <th>season_type</th>\n",
       "      <th>indicator</th>\n",
       "      <th>value</th>\n",
       "    </tr>\n",
       "  </thead>\n",
       "  <tbody>\n",
       "    <tr>\n",
       "      <th>0</th>\n",
       "      <td>SO1990A111</td>\n",
       "      <td>Awdal</td>\n",
       "      <td>None</td>\n",
       "      <td>None</td>\n",
       "      <td>None</td>\n",
       "      <td>2017-02-01</td>\n",
       "      <td>2017-02-28</td>\n",
       "      <td>Deyr</td>\n",
       "      <td>Harvest</td>\n",
       "      <td>Area Harvested</td>\n",
       "      <td>600.0</td>\n",
       "    </tr>\n",
       "    <tr>\n",
       "      <th>1</th>\n",
       "      <td>SO1990A111</td>\n",
       "      <td>Awdal</td>\n",
       "      <td>None</td>\n",
       "      <td>None</td>\n",
       "      <td>None</td>\n",
       "      <td>2016-08-01</td>\n",
       "      <td>2016-08-31</td>\n",
       "      <td>Gu</td>\n",
       "      <td>Harvest</td>\n",
       "      <td>Area Harvested</td>\n",
       "      <td>5500.0</td>\n",
       "    </tr>\n",
       "    <tr>\n",
       "      <th>2</th>\n",
       "      <td>SO1990A111</td>\n",
       "      <td>Awdal</td>\n",
       "      <td>None</td>\n",
       "      <td>None</td>\n",
       "      <td>None</td>\n",
       "      <td>2016-02-01</td>\n",
       "      <td>2016-02-29</td>\n",
       "      <td>Deyr</td>\n",
       "      <td>Harvest</td>\n",
       "      <td>Area Harvested</td>\n",
       "      <td>1700.0</td>\n",
       "    </tr>\n",
       "    <tr>\n",
       "      <th>3</th>\n",
       "      <td>SO1990A111</td>\n",
       "      <td>Awdal</td>\n",
       "      <td>None</td>\n",
       "      <td>None</td>\n",
       "      <td>None</td>\n",
       "      <td>2015-08-01</td>\n",
       "      <td>2015-08-31</td>\n",
       "      <td>Gu</td>\n",
       "      <td>Harvest</td>\n",
       "      <td>Area Harvested</td>\n",
       "      <td>NaN</td>\n",
       "    </tr>\n",
       "    <tr>\n",
       "      <th>4</th>\n",
       "      <td>SO1990A111</td>\n",
       "      <td>Awdal</td>\n",
       "      <td>None</td>\n",
       "      <td>None</td>\n",
       "      <td>None</td>\n",
       "      <td>2015-02-01</td>\n",
       "      <td>2015-02-28</td>\n",
       "      <td>Deyr</td>\n",
       "      <td>Harvest</td>\n",
       "      <td>Area Harvested</td>\n",
       "      <td>400.0</td>\n",
       "    </tr>\n",
       "  </tbody>\n",
       "</table>\n",
       "</div>"
      ],
      "text/plain": [
       "         fnid admin_1 admin_2 admin_3 admin_4  start_date period_date  \\\n",
       "0  SO1990A111   Awdal    None    None    None  2017-02-01  2017-02-28   \n",
       "1  SO1990A111   Awdal    None    None    None  2016-08-01  2016-08-31   \n",
       "2  SO1990A111   Awdal    None    None    None  2016-02-01  2016-02-29   \n",
       "3  SO1990A111   Awdal    None    None    None  2015-08-01  2015-08-31   \n",
       "4  SO1990A111   Awdal    None    None    None  2015-02-01  2015-02-28   \n",
       "\n",
       "  season_name season_type       indicator   value  \n",
       "0        Deyr     Harvest  Area Harvested   600.0  \n",
       "1          Gu     Harvest  Area Harvested  5500.0  \n",
       "2        Deyr     Harvest  Area Harvested  1700.0  \n",
       "3          Gu     Harvest  Area Harvested     NaN  \n",
       "4        Deyr     Harvest  Area Harvested   400.0  "
      ]
     },
     "execution_count": 4,
     "metadata": {},
     "output_type": "execute_result"
    }
   ],
   "source": [
    "df.head()"
   ]
  },
  {
   "cell_type": "code",
   "execution_count": 52,
   "metadata": {},
   "outputs": [],
   "source": [
    "# df.to_excel('removable.xlsx')"
   ]
  },
  {
   "cell_type": "code",
   "execution_count": 5,
   "metadata": {},
   "outputs": [],
   "source": [
    "# 2) Are there more than 2 observations per year?\n",
    "\n",
    "\n"
   ]
  },
  {
   "cell_type": "code",
   "execution_count": null,
   "metadata": {},
   "outputs": [],
   "source": []
  },
  {
   "cell_type": "code",
   "execution_count": 6,
   "metadata": {},
   "outputs": [
    {
     "name": "stdout",
     "output_type": "stream",
     "text": [
      "Unique administrative units (FNID)\n",
      "Admin1: 9/18 (data/map) (9 are identical)\n",
      "Admin2: 41/74 (data/map) (39 are identical)\n",
      "\n",
      "The mismatched FNID in admin_2 level: ['SO1990R22805' 'SO1990R22806']\n"
     ]
    }
   ],
   "source": [
    "# Load FEWSNET admin boundaries of Somalia (1990)\n",
    "adm1_1990 = gpd.read_file('./data/admin_boundaries/SO_Admin1_1990.shp')   # Total 18 FNID\n",
    "adm2_1990 = gpd.read_file('./data/admin_boundaries/SO_Admin2_1990.shp')   # Total 74 FNID\n",
    "\n",
    "# Check any data under admin level2\n",
    "assert df[['admin_3', 'admin_4']].notna().sum().sum() == 0\n",
    "\n",
    "# Number of unique FNID\n",
    "df1 = df[df['admin_2'].isna()]   # Total 14 unique FNID\n",
    "df2 = df[~df['admin_2'].isna()]  # Total 47 unique FNID\n",
    "\n",
    "# Check whether the FNID are matched between FDW data and FEWSNET maps\n",
    "# (This quickly checks any changes in administrative boundaries.)\n",
    "num_fnid_adm1 = np.isin(df1['fnid'].unique(), adm1_1990['FNID'].unique()).sum()\n",
    "num_fnid_adm2 = np.isin(df2['fnid'].unique(), adm2_1990['FNID'].unique()).sum()\n",
    "print('Unique administrative units (FNID)')\n",
    "print('Admin1: %d/%d (data/map) (%d are identical)' % (df1['fnid'].nunique(), adm1_1990['FNID'].nunique(), num_fnid_adm1))\n",
    "print('Admin2: %d/%d (data/map) (%d are identical)' % (df2['fnid'].nunique(), adm2_1990['FNID'].nunique(), num_fnid_adm2))\n",
    "\n",
    "# Second dropping columns\n",
    "df1 = df1.drop(['admin_1','admin_2','admin_3','admin_4'], axis=1)\n",
    "df2 = df2.drop(['admin_1','admin_2','admin_3','admin_4'], axis=1)\n",
    "\n",
    "# Mismatched FNID\n",
    "mismatched_adm2 = df2['fnid'].unique()[~np.isin(df2['fnid'].unique(), adm2_1990['FNID'].unique())]\n",
    "print('\\nThe mismatched FNID in admin_2 level: %s' % mismatched_adm2)\n",
    "\n",
    "# Correction\n",
    "# FNID SO1990R22805 (Afmadow) and SO1990R22806 (Hagar) are seperated regions of SO1990A22802 (Afmadow). \n",
    "# This is confirmed by FEWS NET crop reporting unit (./data/admin_boundaries/SO_Crop_Units_1990.shp)\n",
    "# Since SO1990A22802 has only one time record, we aggregate SO1990R22805 and SO1990R22806 to represent productions in SO1990A22802.\n"
   ]
  },
  {
   "cell_type": "code",
   "execution_count": null,
   "metadata": {},
   "outputs": [],
   "source": []
  },
  {
   "cell_type": "markdown",
   "metadata": {},
   "source": [
    "### List of adm1 and adm2"
   ]
  },
  {
   "cell_type": "code",
   "execution_count": null,
   "metadata": {},
   "outputs": [],
   "source": []
  },
  {
   "cell_type": "code",
   "execution_count": null,
   "metadata": {},
   "outputs": [],
   "source": []
  },
  {
   "cell_type": "markdown",
   "metadata": {},
   "source": [
    "### Convert to time-series data"
   ]
  },
  {
   "cell_type": "code",
   "execution_count": 7,
   "metadata": {},
   "outputs": [],
   "source": [
    "# Multi-index\n",
    "prod1 = [df1['fnid'].unique(), ['Area Harvested','Area Planted','Quantity Produced','Yield']]\n",
    "mindex1 = pd.MultiIndex.from_product(prod1, names=['fnid', 'indicator'])\n",
    "prod2 = [df2['fnid'].unique(), ['Area Harvested','Area Planted','Quantity Produced','Yield']]\n",
    "mindex2 = pd.MultiIndex.from_product(prod2, names=['fnid', 'indicator'])\n",
    "# Pivoted time-series\n",
    "df1 = pd.pivot_table(df1, values='value', index=['fnid','indicator'],\n",
    "                     aggfunc= 'sum', columns='period_date').reindex(mindex2).T\n",
    "df1 = df1.sort_index(axis=1,level=[0,1],ascending=True)\n",
    "df2 = pd.pivot_table(df2, values='value', index=['fnid','indicator'], \n",
    "                     aggfunc= 'sum', columns='period_date').reindex(mindex2).T\n",
    "df2 = df2.sort_index(axis=1,level=[0,1],ascending=True)\n",
    "# Quantity Produced\n",
    "df1_prod = df1.loc(axis=1)[pd.IndexSlice[:, 'Quantity Produced']]\n",
    "df1_prod.columns = df1_prod.columns.droplevel(level=1)\n",
    "df2_prod = df2.loc(axis=1)[pd.IndexSlice[:, 'Quantity Produced']]\n",
    "df2_prod.columns = df2_prod.columns.droplevel(level=1)"
   ]
  },
  {
   "cell_type": "markdown",
   "metadata": {},
   "source": [
    "### Compare Adm1 and Adm2 data\n",
    "- How does admin2 data explain admin1? What are their relationships?"
   ]
  },
  {
   "cell_type": "code",
   "execution_count": 9,
   "metadata": {},
   "outputs": [
    {
     "data": {
      "text/plain": [
       "<AxesSubplot:xlabel='period_date'>"
      ]
     },
     "execution_count": 9,
     "metadata": {},
     "output_type": "execute_result"
    },
    {
     "data": {
      "image/png": "[encoded data removed]",
      "text/plain": [
       "<Figure size 432x288 with 1 Axes>"
      ]
     },
     "metadata": {
      "needs_background": "light"
     },
     "output_type": "display_data"
    }
   ],
   "source": []
  },
  {
   "cell_type": "code",
   "execution_count": null,
   "metadata": {},
   "outputs": [],
   "source": []
  }
 ],
 "metadata": {
  "kernelspec": {
   "display_name": "Python 3",
   "language": "python",
   "name": "python3"
  },
  "language_info": {
   "codemirror_mode": {
    "name": "ipython",
    "version": 3
   },
   "file_extension": ".py",
   "mimetype": "text/x-python",
   "name": "python",
   "nbconvert_exporter": "python",
   "pygments_lexer": "ipython3",
   "version": "3.7.8"
  }
 },
 "nbformat": 4,
 "nbformat_minor": 4
}
