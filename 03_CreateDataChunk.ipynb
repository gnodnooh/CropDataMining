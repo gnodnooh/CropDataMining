{
 "cells": [
  {
   "cell_type": "markdown",
   "metadata": {},
   "source": [
    "## Create Data Chunks to facilitate HTCondor Processing"
   ]
  },
  {
   "cell_type": "code",
   "execution_count": 1,
   "metadata": {},
   "outputs": [],
   "source": [
    "import os, sys\n",
    "import numpy as np\n",
    "import pandas as pd\n",
    "import time\n",
    "from tools import split, save_hdf"
   ]
  },
  {
   "cell_type": "markdown",
   "metadata": {},
   "source": [
    "### Load data and Create data chunk"
   ]
  },
  {
   "cell_type": "code",
   "execution_count": 2,
   "metadata": {},
   "outputs": [],
   "source": [
    "def ExtendPeriodIndex(df_in):\n",
    "    df_out = df_in.copy()\n",
    "    tdx = pd.to_datetime(df_out.index,format='%Y-%m-%d')\n",
    "    df_out.index = tdx.to_period('M')\n",
    "    df_out = df_out.reindex(pd.date_range(tdx.min(), tdx.max(),freq='M').to_period('M'), \n",
    "                            fill_value=np.nan)\n",
    "    return df_out\n",
    "    \n",
    "# Load yield data\n",
    "yield1 = pd.read_hdf('./data/crop/SO_admin1_maize_yield.hdf'); yield1.columns.name = 'FNID'\n",
    "yield2 = pd.read_hdf('./data/crop/SO_admin2_maize_yield.hdf'); yield2.columns.name = 'FNID'\n",
    "# - Extend period index\n",
    "yield1 = ExtendPeriodIndex(yield1)\n",
    "yield1 = yield1[yield1.index.month.isin([2,8])]\n",
    "yield2 = ExtendPeriodIndex(yield2)\n",
    "yield2 = yield2[yield2.index.month.isin([2,8])]\n",
    "crop = yield2.copy()    # THIS SELECT DATA\n",
    "\n",
    "# Load EO data\n",
    "prcp = pd.read_hdf('./data/earthobs/SO_admin2_prcp.hdf')\n",
    "etos = pd.read_hdf('./data/earthobs/SO_admin2_etos.hdf')\n",
    "smos = pd.read_hdf('./data/earthobs/SO_admin2_smos.hdf')\n",
    "ndvi = pd.read_hdf('./data/earthobs/SO_admin2_ndvi.hdf')"
   ]
  },
  {
   "cell_type": "code",
   "execution_count": 8,
   "metadata": {},
   "outputs": [
    {
     "data": {
      "text/plain": [
       "array([16,  0,  2, 21,  2, 28, 19, 21, 19, 29, 21, 30,  0,  0,  0,  0,  0,\n",
       "        0,  0,  0,  0,  0,  0,  0, 22, 14, 23, 23, 26, 25, 27, 31, 26, 35,\n",
       "       30, 34, 29, 29, 29, 31, 30, 34, 36, 34, 26, 31, 31, 35, 34, 33, 29,\n",
       "       33, 35, 33, 24, 36, 37, 33, 36, 32, 34, 35, 32, 32, 34, 33, 29, 33,\n",
       "        2, 30])"
      ]
     },
     "execution_count": 8,
     "metadata": {},
     "output_type": "execute_result"
    }
   ],
   "source": [
    "crop.notna().sum(1).values"
   ]
  },
  {
   "cell_type": "code",
   "execution_count": null,
   "metadata": {},
   "outputs": [],
   "source": []
  },
  {
   "cell_type": "code",
   "execution_count": null,
   "metadata": {},
   "outputs": [],
   "source": []
  },
  {
   "cell_type": "code",
   "execution_count": 3,
   "metadata": {},
   "outputs": [
    {
     "name": "stdout",
     "output_type": "stream",
     "text": [
      "All chunks of data is saved.\n"
     ]
    }
   ],
   "source": [
    "# Number of districts\n",
    "nchunk = crop.shape[1]\n",
    "pointList = list(split(list(crop.columns), nchunk))\n",
    "predList = ['prcp', 'etos', 'smos', 'ndvi']\n",
    "# Creat data chunks with multi-index\n",
    "for i in range(nchunk):\n",
    "    # Create a DataFrame per chunk\n",
    "    dfPred1 = pd.DataFrame(index = crop.index, columns=pointList[i])\n",
    "    mcols2 = pd.MultiIndex.from_product([pointList[i], predList], names=['pid', ''])\n",
    "    dfPred2 = pd.DataFrame(index = prcp.index, columns=mcols2)\n",
    "    # Assign data to each point\n",
    "    for j in pointList[i]:\n",
    "        dfPred1[j] = crop[j]\n",
    "        dfTemp = pd.concat([prcp[j], etos[j], smos[j], ndvi[j]], axis=1)\n",
    "        dfTemp.columns = predList\n",
    "        dfPred2[j] = dfTemp\n",
    "    # Save as HDF format\n",
    "    save_hdf('./data/data_in/dfCropDist{:d}.hdf'.format(i), dfPred1, set_print=False)\n",
    "    save_hdf('./data/data_in/dfPredDist{:d}.hdf'.format(i), dfPred2, set_print=False)\n",
    "print('All chunks of data is saved.')"
   ]
  },
  {
   "cell_type": "code",
   "execution_count": 4,
   "metadata": {},
   "outputs": [
    {
     "data": {
      "text/plain": [
       "[['SO1990A21201'],\n",
       " ['SO1990A21203'],\n",
       " ['SO1990A21301'],\n",
       " ['SO1990A21303'],\n",
       " ['SO1990A21304'],\n",
       " ['SO1990A21501'],\n",
       " ['SO1990A22001'],\n",
       " ['SO1990A22002'],\n",
       " ['SO1990A22003'],\n",
       " ['SO1990A22101'],\n",
       " ['SO1990A22102'],\n",
       " ['SO1990A22103'],\n",
       " ['SO1990A22301'],\n",
       " ['SO1990A22302'],\n",
       " ['SO1990A22303'],\n",
       " ['SO1990A22304'],\n",
       " ['SO1990A22305'],\n",
       " ['SO1990A22306'],\n",
       " ['SO1990A22307'],\n",
       " ['SO1990A22401'],\n",
       " ['SO1990A22402'],\n",
       " ['SO1990A22403'],\n",
       " ['SO1990A22404'],\n",
       " ['SO1990A22501'],\n",
       " ['SO1990A22502'],\n",
       " ['SO1990A22503'],\n",
       " ['SO1990A22504'],\n",
       " ['SO1990A22505'],\n",
       " ['SO1990A22601'],\n",
       " ['SO1990A22602'],\n",
       " ['SO1990A22603'],\n",
       " ['SO1990A22605'],\n",
       " ['SO1990A22606'],\n",
       " ['SO1990A22701'],\n",
       " ['SO1990A22702'],\n",
       " ['SO1990A22703'],\n",
       " ['SO1990A22801'],\n",
       " ['SO1990A22802'],\n",
       " ['SO1990A22803'],\n",
       " ['SO1990A22804']]"
      ]
     },
     "execution_count": 4,
     "metadata": {},
     "output_type": "execute_result"
    }
   ],
   "source": [
    "pointList"
   ]
  },
  {
   "cell_type": "code",
   "execution_count": null,
   "metadata": {},
   "outputs": [],
   "source": []
  }
 ],
 "metadata": {
  "kernelspec": {
   "display_name": "Python 3",
   "language": "python",
   "name": "python3"
  },
  "language_info": {
   "codemirror_mode": {
    "name": "ipython",
    "version": 3
   },
   "file_extension": ".py",
   "mimetype": "text/x-python",
   "name": "python",
   "nbconvert_exporter": "python",
   "pygments_lexer": "ipython3",
   "version": "3.7.8"
  }
 },
 "nbformat": 4,
 "nbformat_minor": 4
}
