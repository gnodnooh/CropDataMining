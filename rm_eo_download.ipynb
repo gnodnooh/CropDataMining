{
 "cells": [
  {
   "cell_type": "code",
   "execution_count": 4,
   "metadata": {},
   "outputs": [],
   "source": [
    "import os\n",
    "import urllib\n",
    "from bs4 import BeautifulSoup\n",
    "import numpy as np\n",
    "# import zipfile\n",
    "# import rasterio\n",
    "# from rasterio.merge import merge\n",
    "# import rasterio.mask\n",
    "# import fiona\n",
    "# import geopandas as gpd\n",
    "# import re"
   ]
  },
  {
   "cell_type": "code",
   "execution_count": 5,
   "metadata": {},
   "outputs": [],
   "source": [
    "def LinkFromURL(url):\n",
    "    '''\n",
    "    Returns all hyperlinks in the URL.\n",
    "    '''\n",
    "    # Retreive links in the URL path\n",
    "    urlpath = urllib.request.urlopen(url)\n",
    "    html_doc = urlpath.read().decode('utf-8')\n",
    "    # BeautifulSoup object\n",
    "    soup = BeautifulSoup(html_doc, 'html.parser')\n",
    "    # Make a list of hyerlinks\n",
    "    links = []\n",
    "    for link in soup.find_all('a'):\n",
    "        links.append(link.get('href'))\n",
    "    links.pop(0)     # Remove the parent link        \n",
    "    return links\n",
    "\n",
    "\n",
    "def DownloadFromURL(fullURL, fullDIR, showLog = False):\n",
    "    '''\n",
    "    Downloads the inserted hyperlinks (URLs) to the inserted files n the disk\n",
    "    '''\n",
    "    # Make parent directories if they do not exist\n",
    "    if type(fullDIR) == list:\n",
    "        parentDIRS = list(np.unique([os.path.dirname(DIR) for DIR in fullDIR]))\n",
    "        for parentDIR in parentDIRS:\n",
    "            os.makedirs(parentDIR, exist_ok=True)\n",
    "        # Download all files\n",
    "        nError = 0\n",
    "        nExist = 0\n",
    "        nDown = 0\n",
    "        for file_url, file_dir in zip(fullURL, fullDIR):\n",
    "            if not os.path.exists(file_dir):\n",
    "                try:\n",
    "                    urllib.request.urlretrieve(file_url, file_dir)\n",
    "                    nDown += 1\n",
    "                    print(file_dir, 'is saved.')\n",
    "                except:\n",
    "                    nError += 1\n",
    "                    pass\n",
    "            else:\n",
    "                nExist += 1\n",
    "        if showLog:\n",
    "            print('%d files are tried: %d exist, %d downloads, %d errors' % (len(fullURL),nExist,nDown,nError))\n",
    "            \n",
    "    elif type(fullDIR) == str:\n",
    "        parentDIRS = os.path.dirname(fullDIR)\n",
    "        # Download all files\n",
    "        nError = 0\n",
    "        nExist = 0\n",
    "        nDown = 0\n",
    "        if not os.path.exists(fullDIR):\n",
    "                try:\n",
    "                    urllib.request.urlretrieve(fullURL, fullDIR)\n",
    "                    nDown += 1\n",
    "                    print(fullDIR, 'is saved.')\n",
    "                except:\n",
    "                    nError += 1\n",
    "                    pass\n",
    "                else:\n",
    "                    nExist += 1\n",
    "        if showLog:\n",
    "            print('%d files are tried: %d exist, %d downloads, %d errors' % (len(fullURL),nExist,nDown,nError))\n",
    "    return"
   ]
  },
  {
   "cell_type": "code",
   "execution_count": null,
   "metadata": {},
   "outputs": [
    {
     "name": "stdout",
     "output_type": "stream",
     "text": [
      "/Users/dlee/data/repo/CropYieldForecast/ndvi/AVHRR-Land_v005_AVH13C1_NOAA-07_19810702_c20170609171647.nc is saved.\n",
      "/Users/dlee/data/repo/CropYieldForecast/ndvi/AVHRR-Land_v005_AVH13C1_NOAA-07_19810703_c20170609173647.nc is saved.\n"
     ]
    }
   ],
   "source": [
    "url = 'https://www.ncei.noaa.gov/data/avhrr-land-normalized-difference-vegetation-index/access/'\n",
    "path = '/Users/dlee/data/repo/CropYieldForecast/ndvi/'\n",
    "year = 1981\n",
    "links = LinkFromURL(url+str(year))\n",
    "links = [link for link in links if link.startswith('AVHRR')]\n",
    "fullDIR = [os.path.join(path, link) for link in links]\n",
    "fullURL = [os.path.join(url, str(year), link) for link in links]\n",
    "DownloadFromURL(fullURL, fullDIR, True)"
   ]
  },
  {
   "cell_type": "code",
   "execution_count": null,
   "metadata": {},
   "outputs": [],
   "source": []
  }
 ],
 "metadata": {
  "kernelspec": {
   "display_name": "Python 3",
   "language": "python",
   "name": "python3"
  },
  "language_info": {
   "codemirror_mode": {
    "name": "ipython",
    "version": 3
   },
   "file_extension": ".py",
   "mimetype": "text/x-python",
   "name": "python",
   "nbconvert_exporter": "python",
   "pygments_lexer": "ipython3",
   "version": "3.6.7"
  }
 },
 "nbformat": 4,
 "nbformat_minor": 4
}
