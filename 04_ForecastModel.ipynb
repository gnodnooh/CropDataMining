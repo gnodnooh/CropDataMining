{
 "cells": [
  {
   "cell_type": "markdown",
   "metadata": {},
   "source": [
    "## Probablistic Crop Yield Forecast (PCYF) model"
   ]
  },
  {
   "cell_type": "code",
   "execution_count": 6,
   "metadata": {},
   "outputs": [],
   "source": [
    "import os, sys, getopt\n",
    "from tools import save_hdf\n",
    "import time\n",
    "import numpy as np\n",
    "import pandas as pd\n",
    "from pcyf import PCYF\n",
    "import metrics as mt"
   ]
  },
  {
   "cell_type": "code",
   "execution_count": 7,
   "metadata": {},
   "outputs": [],
   "source": [
    "# Load data\n",
    "crop = pd.read_hdf('./data/crop/SO_admin2_maize_yield.hdf')\n",
    "dist = crop.columns\n",
    "dist.name = 'FNID_ADM2'\n",
    "targmon = 2\n",
    "leadmat = [4,3,2,1]\n",
    "\n",
    "# Prediction per district\n",
    "msess = np.full([len(dist), 4], np.nan)\n",
    "gss = msess.copy()\n",
    "for i, pid in enumerate(dist):\n",
    "    # Load data\n",
    "    dfCrop = pd.read_hdf('./data/data_in/dfCropDist%d.hdf' % i)[pid]\n",
    "    dfPred = pd.read_hdf('./data/data_in/dfPredDist%d.hdf' % i)[pid]\n",
    "    # Prediction\n",
    "    box = PCYF(dfCrop, dfPred, targmon=targmon, leadmat=leadmat, pid=pid)\n",
    "    if box.outbox['status'] == 0:\n",
    "        for j in range(4):\n",
    "            msess[i,j] = box.outbox['m%02d'%leadmat[j]]['msess']\n",
    "            gss[i,j] = box.outbox['m%02d'%leadmat[j]]['gss']"
   ]
  },
  {
   "cell_type": "code",
   "execution_count": 8,
   "metadata": {},
   "outputs": [],
   "source": [
    "# Skill scores\n",
    "msess = pd.DataFrame(index = dist, data = msess, columns = ['mse04','mse03','mse02','mse01'])\n",
    "gss = pd.DataFrame(index = dist, data = gss, columns = ['gss04','gss03','gss02','gss01'])"
   ]
  },
  {
   "cell_type": "code",
   "execution_count": 9,
   "metadata": {},
   "outputs": [
    {
     "name": "stdout",
     "output_type": "stream",
     "text": [
      "./data/result/admin2_msess.hdf is saved.\n",
      "./data/result/admin2_gss.hdf is saved.\n"
     ]
    }
   ],
   "source": [
    "save_hdf('./data/result/admin2_msess.hdf', msess)\n",
    "save_hdf('./data/result/admin2_gss.hdf', gss)"
   ]
  },
  {
   "cell_type": "code",
   "execution_count": null,
   "metadata": {},
   "outputs": [],
   "source": []
  }
 ],
 "metadata": {
  "kernelspec": {
   "display_name": "Python 3",
   "language": "python",
   "name": "python3"
  },
  "language_info": {
   "codemirror_mode": {
    "name": "ipython",
    "version": 3
   },
   "file_extension": ".py",
   "mimetype": "text/x-python",
   "name": "python",
   "nbconvert_exporter": "python",
   "pygments_lexer": "ipython3",
   "version": "3.7.8"
  }
 },
 "nbformat": 4,
 "nbformat_minor": 4
}
